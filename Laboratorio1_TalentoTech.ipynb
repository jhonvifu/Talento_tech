{
  "nbformat": 4,
  "nbformat_minor": 0,
  "metadata": {
    "colab": {
      "provenance": [],
      "include_colab_link": true
    },
    "kernelspec": {
      "name": "python3",
      "display_name": "Python 3"
    },
    "language_info": {
      "name": "python"
    }
  },
  "cells": [
    {
      "cell_type": "markdown",
      "metadata": {
        "id": "view-in-github",
        "colab_type": "text"
      },
      "source": [
        "<a href=\"https://colab.research.google.com/github/jhonvifu/Talento_tech/blob/main/Laboratorio1_TalentoTech.ipynb\" target=\"_parent\"><img src=\"https://colab.research.google.com/assets/colab-badge.svg\" alt=\"Open In Colab\"/></a>"
      ]
    },
    {
      "cell_type": "code",
      "source": [
        "from google.colab import drive\n",
        "drive.mount('/content/drive')"
      ],
      "metadata": {
        "id": "jO5IYtvu29AW",
        "outputId": "a37c93df-f067-4704-af88-91289398b084",
        "colab": {
          "base_uri": "https://localhost:8080/"
        }
      },
      "execution_count": 10,
      "outputs": [
        {
          "output_type": "stream",
          "name": "stdout",
          "text": [
            "Drive already mounted at /content/drive; to attempt to forcibly remount, call drive.mount(\"/content/drive\", force_remount=True).\n"
          ]
        }
      ]
    },
    {
      "cell_type": "markdown",
      "metadata": {
        "id": "Sz8ogFjl7a8b"
      },
      "source": [
        "# Laboratorio # 1\n",
        "\n",
        "### Temas: Limpieza de Datos, análisis de negocio, integración de fuentes de datos"
      ]
    },
    {
      "cell_type": "markdown",
      "metadata": {
        "id": "jYJxCZNZDfYe"
      },
      "source": [
        "# 1. El problema del negocio\n",
        "\n",
        "Una entidad bancaria contrata a una empresa de marketing encargada de contactar telefónicamente a posibles clientes para determinar si están interesados o no en adquirir un certificado de depósito a término con el banco.\n",
        "\n",
        "¿Qué perfil tienen los clientes con mayor potencial de conversión?"
      ]
    },
    {
      "cell_type": "markdown",
      "metadata": {
        "id": "4WOEkmPt7aHf"
      },
      "source": [
        "#2. El set de datos\n",
        "\n",
        "La información recolectada por la empresa de mercadeo se encuentra en un archivo CSV (`dataset_banco.csv`) con 45215 filas y 17 columnas.\n",
        "\n",
        "Cada registro contiene 16 características (las primeras 16 columnas) y una categoría (\"yes\" o \"no\" dependiendo de si la persona está o no interesada en adquirir el producto). Las columnas son:\n",
        "\n",
        "1. \"age\":  edad (numérica)\n",
        "2. \"job\": tipo de trabajo (categórica: \"admin.\", \"unknown\", \"unemployed\", \"management\", \"housemaid\", \"entrepreneur\", \"student\", \"blue-collar\",\"self-employed\", \"retired\", \"technician\", \"services\")\n",
        "3. \"marital\": estado civil (categórica: \"married\", \"divorced\", \"single\")\n",
        "4. \"education\": nivel educativo (categórica: \"unknown\", \"secondary\", \"primary\", \"tertiary\")\n",
        "5. \"default\": si dejó de pagar sus obligaciones (categórica: \"yes\", \"no\")\n",
        "6. \"balance\": saldo promedio anual de ingresos en euros (numérica)\n",
        "7. \"housing\": ¿tiene o no crédito hipotecario? (categórica: \"yes\", \"no\")\n",
        "8. \"loan\": ¿tiene créditos de consumo? (categórica: \"yes\", \"no\")\n",
        "9. \"contact\": medio a través del cual fue contactado (categórica: \"unknown\", \"telephone\", \"cellular\")\n",
        "10. \"day\": último día del mes en el que fue contactada (numérica)\n",
        "11. \"month\": último mes en el que fue contactada (categórica: \"jan\", \"feb\", \"mar\", ..., \"nov\", \"dec\")\n",
        "12. \"duration\": duración (en segundos) del último contacto (numérica)\n",
        "13. \"campaign\": número total de veces que fue contactada durante la campaña (numérica)\n",
        "14. \"pdays\": número de días transcurridos después de haber sido contactado antes de la campaña actual (numérica. -1 indica que no fue contactado previamente)\n",
        "15. \"previous\": número de veces que ha sido contactada antes de esta campaña (numérica)\n",
        "16. \"poutcome\": resultado de la campaña de marketing anterior (categórica: \"unknown\", \"other\", \"failure\", \"success\")\n",
        "17. \"y\": categoría ¿el cliente se suscribió a un depósito a término? (categórica: \"yes\", \"no\")"
      ]
    },
    {
      "cell_type": "markdown",
      "metadata": {
        "id": "7wXHT_PLEFkr"
      },
      "source": [
        "#3. Una primera mirada al dataset"
      ]
    },
    {
      "cell_type": "code",
      "metadata": {
        "id": "SQ_-SdsX7enM"
      },
      "source": [
        "# Importar librerías\n",
        "import pandas as pd\n",
        "import matplotlib.pyplot as plt\n",
        "import seaborn as sns"
      ],
      "execution_count": 11,
      "outputs": []
    },
    {
      "cell_type": "code",
      "metadata": {
        "colab": {
          "base_uri": "https://localhost:8080/"
        },
        "id": "yECOD3UAEV-a",
        "outputId": "7c08dafd-5242-49b7-e92a-0d4197b179f2"
      },
      "source": [
        "# Lectura\n",
        "from google.colab import drive\n",
        "drive.mount('/content/drive')\n",
        "\n",
        "ruta = \"/content/dataset_banco.xlsx\"\n",
        "data = pd.read_excel(ruta)"
      ],
      "execution_count": 14,
      "outputs": [
        {
          "output_type": "stream",
          "name": "stdout",
          "text": [
            "Drive already mounted at /content/drive; to attempt to forcibly remount, call drive.mount(\"/content/drive\", force_remount=True).\n"
          ]
        }
      ]
    },
    {
      "cell_type": "code",
      "source": [
        "#proporciona visualización y exploración de datos con el dataset cargado"
      ],
      "metadata": {
        "id": "xvni9ncDBUkA"
      },
      "execution_count": null,
      "outputs": []
    },
    {
      "cell_type": "markdown",
      "source": [
        "# **Visualización y Exploración de Datos:**\n",
        "\n",
        "\n",
        "*   df.head(): Muestra las primeras filas del DataFrame.\n",
        "*   df.tail(): Muestra las últimas filas del DataFrame.\n",
        "*   df.info(): Muestra información sobre el DataFrame, incluyendo tipos de datos y valores no nulos.\n",
        "*   df.describe(): Proporciona estadísticas descriptivas para columnas numéricas.\n",
        "*   df.shape: Devuelve una tupla con la cantidad de filas y columnas del DataFrame.\n",
        "*   df.columns: Devuelve una lista con los nombres de las columnas del DataFrame."
      ],
      "metadata": {
        "id": "v3bOXngEBdel"
      }
    },
    {
      "cell_type": "markdown",
      "source": [
        "## Transformación de nombres de atributos"
      ],
      "metadata": {
        "id": "-DUzjZP59ilF"
      }
    },
    {
      "cell_type": "code",
      "source": [
        "#cambia los nombres de las columnas del dataframe\n",
        "# Renombramos las columnas\n",
        "data_rename_2 = data.rename(columns={ # Changed df to data\n",
        "                                  'age':        'edad',\n",
        "                                  'job':        'trabajo',\n",
        "                                  'marital':    'estado_civil',\n",
        "                                  'education':  'educacion',\n",
        "                                  'default':    'morosidad',\n",
        "                                  'balance':    'saldo',\n",
        "                                  'housing':    'vivienda',\n",
        "                                  'loan':       'prestamo',\n",
        "                                  'contact':    'contacto',\n",
        "                                  'day':        'dia',\n",
        "                                  'month':      'mes',\n",
        "                                  'duration':   'duracion',\n",
        "                                  'campaign':   'campana',\n",
        "                                  'pdays':      'dias_previos',\n",
        "                                  'previous':   'anterior',\n",
        "                                  'poutcome':   'resultado',\n",
        "                                  'y':          'respuesta'})\n",
        "\n",
        "# Verificamos los cambios\n",
        "print(data_rename_2.head())"
      ],
      "metadata": {
        "id": "B7dcYCWP8bz8",
        "outputId": "166621c9-2928-49af-d3b1-f2a3c0724985",
        "colab": {
          "base_uri": "https://localhost:8080/"
        }
      },
      "execution_count": 19,
      "outputs": [
        {
          "output_type": "stream",
          "name": "stdout",
          "text": [
            "   edad       trabajo estado_civil  educacion morosidad   saldo vivienda  \\\n",
            "0    58    management      married   tertiary        no  2143.0      yes   \n",
            "1    44    technician       single  secondary        no    29.0      yes   \n",
            "2    33  entrepreneur      married  secondary        no     2.0      yes   \n",
            "3    47   blue-collar      married    unknown        no  1506.0      yes   \n",
            "4    33       unknown       single    unknown        no     1.0       no   \n",
            "\n",
            "  prestamo contacto  dia  mes  duracion  campana  dias_previos  anterior  \\\n",
            "0       no  unknown    5  may     261.0        1          -1.0         0   \n",
            "1       no  unknown    5  may     151.0        1          -1.0         0   \n",
            "2      yes  unknown    5  may      76.0        1          -1.0         0   \n",
            "3       no  unknown    5  may      92.0        1          -1.0         0   \n",
            "4       no  unknown    5  may     198.0        1          -1.0         0   \n",
            "\n",
            "  resultado respuesta  \n",
            "0   unknown        no  \n",
            "1   unknown        no  \n",
            "2   unknown        no  \n",
            "3   unknown        no  \n",
            "4   unknown        no  \n"
          ]
        }
      ]
    },
    {
      "cell_type": "code",
      "source": [
        "# Renombrar las columnas #2\n",
        "data_rename_2.columns = ['edad', # Changed df to data_rename_2\n",
        "              'trabajo',\n",
        "              'estado_civil',\n",
        "              'educacion',\n",
        "              'incumplimiento',\n",
        "              'saldo',\n",
        "              'vivienda',\n",
        "              'prestamo',\n",
        "              'contacto',\n",
        "              'dia',\n",
        "              'mes',\n",
        "              'duracion',\n",
        "              'campaña',\n",
        "              'dias_previos',\n",
        "              'anterior',\n",
        "              'resultado_prev',\n",
        "              'respuesta']\n",
        "\n",
        "print(data_rename_2.columns) # Changed df to data_rename_2"
      ],
      "metadata": {
        "id": "zE6yUqKck2jG",
        "outputId": "1b659bbb-986d-4204-c709-e0d78fbb6030",
        "colab": {
          "base_uri": "https://localhost:8080/"
        }
      },
      "execution_count": 21,
      "outputs": [
        {
          "output_type": "stream",
          "name": "stdout",
          "text": [
            "Index(['edad', 'trabajo', 'estado_civil', 'educacion', 'incumplimiento',\n",
            "       'saldo', 'vivienda', 'prestamo', 'contacto', 'dia', 'mes', 'duracion',\n",
            "       'campaña', 'dias_previos', 'anterior', 'resultado_prev', 'respuesta'],\n",
            "      dtype='object')\n"
          ]
        }
      ]
    },
    {
      "cell_type": "code",
      "source": [
        "#visualiza las primeras líneas de tu .csv"
      ],
      "metadata": {
        "id": "DAurjZa07b5Z"
      },
      "execution_count": 22,
      "outputs": []
    },
    {
      "cell_type": "code",
      "source": [
        "#visualiza las variables categóricas y las numéricas"
      ],
      "metadata": {
        "id": "NSP3rNFUZMi6"
      },
      "execution_count": 23,
      "outputs": []
    },
    {
      "cell_type": "code",
      "metadata": {
        "id": "gATCZsQPE3VQ",
        "outputId": "92f815f7-8a1f-47e4-a304-4b8fcf329d7a",
        "colab": {
          "base_uri": "https://localhost:8080/"
        }
      },
      "source": [
        "#clasificar columnas\n",
        "categoricas = data_rename_2.select_dtypes(include=['object']).columns.tolist() # Changed df to data_rename_2 as this is the variable that holds the dataframe.\n",
        "numericas = data_rename_2.select_dtypes(include=['int64', 'float64']).columns.tolist() # Changed df to data_rename_2\n",
        "print(\"Columnas categóricas:\", categoricas)\n",
        "print(\"Columnas numéricas:\", numericas)"
      ],
      "execution_count": 25,
      "outputs": [
        {
          "output_type": "stream",
          "name": "stdout",
          "text": [
            "Columnas categóricas: ['trabajo', 'estado_civil', 'educacion', 'incumplimiento', 'vivienda', 'prestamo', 'contacto', 'mes', 'resultado_prev', 'respuesta']\n",
            "Columnas numéricas: ['edad', 'saldo', 'dia', 'duracion', 'campaña', 'dias_previos', 'anterior']\n"
          ]
        }
      ]
    },
    {
      "cell_type": "code",
      "source": [
        "pd.value_counts(data_rename_2['trabajo']) # Changed 'job' to 'trabajo'"
      ],
      "metadata": {
        "id": "Wsf-I34hlDom",
        "outputId": "ef86ca82-5f49-4fff-e026-fb83f4bf2975",
        "colab": {
          "base_uri": "https://localhost:8080/",
          "height": 736
        }
      },
      "execution_count": 29,
      "outputs": [
        {
          "output_type": "stream",
          "name": "stderr",
          "text": [
            "<ipython-input-29-6486e2a0d472>:1: FutureWarning: pandas.value_counts is deprecated and will be removed in a future version. Use pd.Series(obj).value_counts() instead.\n",
            "  pd.value_counts(data_rename_2['trabajo']) # Changed 'job' to 'trabajo'\n"
          ]
        },
        {
          "output_type": "execute_result",
          "data": {
            "text/plain": [
              "trabajo\n",
              "blue-collar       9731\n",
              "management        9455\n",
              "technician        7599\n",
              "admin.            5168\n",
              "services          4153\n",
              "retired           2263\n",
              "self-employed     1578\n",
              "entrepreneur      1487\n",
              "unemployed        1303\n",
              "housemaid         1240\n",
              "student            938\n",
              "unknown            288\n",
              "administrative       3\n",
              "Management           2\n",
              "MANAGEMENT           2\n",
              "Self-employed        1\n",
              "Services             1\n",
              "Retired              1\n",
              "Name: count, dtype: int64"
            ],
            "text/html": [
              "<div>\n",
              "<style scoped>\n",
              "    .dataframe tbody tr th:only-of-type {\n",
              "        vertical-align: middle;\n",
              "    }\n",
              "\n",
              "    .dataframe tbody tr th {\n",
              "        vertical-align: top;\n",
              "    }\n",
              "\n",
              "    .dataframe thead th {\n",
              "        text-align: right;\n",
              "    }\n",
              "</style>\n",
              "<table border=\"1\" class=\"dataframe\">\n",
              "  <thead>\n",
              "    <tr style=\"text-align: right;\">\n",
              "      <th></th>\n",
              "      <th>count</th>\n",
              "    </tr>\n",
              "    <tr>\n",
              "      <th>trabajo</th>\n",
              "      <th></th>\n",
              "    </tr>\n",
              "  </thead>\n",
              "  <tbody>\n",
              "    <tr>\n",
              "      <th>blue-collar</th>\n",
              "      <td>9731</td>\n",
              "    </tr>\n",
              "    <tr>\n",
              "      <th>management</th>\n",
              "      <td>9455</td>\n",
              "    </tr>\n",
              "    <tr>\n",
              "      <th>technician</th>\n",
              "      <td>7599</td>\n",
              "    </tr>\n",
              "    <tr>\n",
              "      <th>admin.</th>\n",
              "      <td>5168</td>\n",
              "    </tr>\n",
              "    <tr>\n",
              "      <th>services</th>\n",
              "      <td>4153</td>\n",
              "    </tr>\n",
              "    <tr>\n",
              "      <th>retired</th>\n",
              "      <td>2263</td>\n",
              "    </tr>\n",
              "    <tr>\n",
              "      <th>self-employed</th>\n",
              "      <td>1578</td>\n",
              "    </tr>\n",
              "    <tr>\n",
              "      <th>entrepreneur</th>\n",
              "      <td>1487</td>\n",
              "    </tr>\n",
              "    <tr>\n",
              "      <th>unemployed</th>\n",
              "      <td>1303</td>\n",
              "    </tr>\n",
              "    <tr>\n",
              "      <th>housemaid</th>\n",
              "      <td>1240</td>\n",
              "    </tr>\n",
              "    <tr>\n",
              "      <th>student</th>\n",
              "      <td>938</td>\n",
              "    </tr>\n",
              "    <tr>\n",
              "      <th>unknown</th>\n",
              "      <td>288</td>\n",
              "    </tr>\n",
              "    <tr>\n",
              "      <th>administrative</th>\n",
              "      <td>3</td>\n",
              "    </tr>\n",
              "    <tr>\n",
              "      <th>Management</th>\n",
              "      <td>2</td>\n",
              "    </tr>\n",
              "    <tr>\n",
              "      <th>MANAGEMENT</th>\n",
              "      <td>2</td>\n",
              "    </tr>\n",
              "    <tr>\n",
              "      <th>Self-employed</th>\n",
              "      <td>1</td>\n",
              "    </tr>\n",
              "    <tr>\n",
              "      <th>Services</th>\n",
              "      <td>1</td>\n",
              "    </tr>\n",
              "    <tr>\n",
              "      <th>Retired</th>\n",
              "      <td>1</td>\n",
              "    </tr>\n",
              "  </tbody>\n",
              "</table>\n",
              "</div><br><label><b>dtype:</b> int64</label>"
            ]
          },
          "metadata": {},
          "execution_count": 29
        }
      ]
    },
    {
      "cell_type": "code",
      "source": [
        "#proporciona estadísticas descriptivas para columnas numéricas"
      ],
      "metadata": {
        "id": "UwSY-R2xBFzR"
      },
      "execution_count": 30,
      "outputs": []
    },
    {
      "cell_type": "markdown",
      "source": [
        "## 4. Limpieza\n",
        "\n",
        "Realizaremos el proceso de limpieza teniendo en cuenta las situaciones más comunes:\n",
        "\n",
        "1. Datos faltantes en algunas celdas\n",
        "2. Columnas irrelevantes (que no responden al problema que queremos resolver)\n",
        "3. Registros (filas) repetidos\n",
        "4. Valores extremos (*outliers*) en el caso de las variables numéricas. Se deben analizar en detalle pues no necesariamente la solución es eliminarlos\n",
        "5. Errores tipográficos en el caso de las variables categóricas\n",
        "\n",
        "Al final de este proceso de limpieza deberíamos tener un set de datos **íntegro**, listo para la fase de Análisis Exploratorio."
      ],
      "metadata": {
        "id": "9tP4NlOGcmGc"
      }
    },
    {
      "cell_type": "markdown",
      "source": [
        "## 4.1 Datos faltantes\n",
        "\n",
        "Acá comenzamos a ver que los datos no están completos, pues no todas las columnas tienen la misma cantidad de registros.\n",
        "\n",
        "El número total de registros debería ser 45.215. Sin embargo columnas como \"job\", \"marital\", \"education\", \"balance\", \"duration\" y \"pdays\".\n",
        "\n",
        "Por ser tan pocos los datos  faltantes optaremos por eliminar las filas correspondientes:"
      ],
      "metadata": {
        "id": "46uhC-egctBk"
      }
    },
    {
      "cell_type": "code",
      "source": [
        "#Comando para contar los valores faltantes de mi dataframe\n",
        "data.isna().sum()"
      ],
      "metadata": {
        "id": "5AQVtkiNcnWR"
      },
      "execution_count": null,
      "outputs": []
    },
    {
      "cell_type": "code",
      "source": [
        "#elimino los valores faltantes de mi dataframe\n",
        "data.dropna(inplace=True)\n",
        "\n",
        "#conteo de valores por columna de mi dataframe\n",
        "data.count()"
      ],
      "metadata": {
        "id": "Rti2umSze8zc"
      },
      "execution_count": null,
      "outputs": []
    },
    {
      "cell_type": "markdown",
      "source": [
        "##4.2 Columnas irrelevantes\n",
        "\n",
        "Una columna irrelevante puede ser:\n",
        "\n",
        "- **Una columna que no contiene información relevante para el problema que queremos resolver**. Por ejemplo en este caso podría ser una columna que no guarde relación con el posible perfil del cliente (deporte favorito, hobbies, comida favorita, etc.)\n",
        "- **Una columna categórica pero con un sólo nivel**. Por ejemplo si en la columna \"job\" solo tuviésemos el nivel \"unknown\".\n",
        "- **Una columna numérica pero con un sólo valor**. Por ejemplo si en la columna \"edad\" todos los valores fuesen iguales a 50.\n",
        "- **Columnas con información redundante**. Por ejemplo si además de las columnas \"month\" y \"day\" tuviésemos la columna \"month-day\", resultado de combinar las dos anteriores.\n",
        "\n",
        "Si tenemos la duda de si alguna columna puede ser relevante o no lo mejor es dejarla (y más adelante en posteriores etapas podremos darnos cuenta de si se debe preservar o no).\n",
        "\n",
        "En este caso todas las columnas pueden resultar relevantes, pero debemos verificar que no haya columnas categóricas con un sólo nivel, o columnas numéricas con un sólo valor:"
      ],
      "metadata": {
        "id": "iiwDQtf6kLCV"
      }
    },
    {
      "cell_type": "markdown",
      "source": [
        "# **for col in cols_cat:**\n",
        "Este es un bucle for que itera sobre cada elemento en la lista cols_cat. La variable col tomará el valor de cada elemento en cada iteración del bucle.\n",
        "\n",
        "print(f'Columna {col}: {data[col].nunique()} subniveles'): Dentro del bucle, esta línea de código imprime un mensaje que indica el nombre de la columna (col), seguido por el número de subniveles únicos en esa columna.\n",
        "\n",
        "f'Columna {col}: {data[col].nunique()} subniveles': Esta es una cadena de formato (f-string) que contiene dos variables:\n",
        "{col}: Representa el nombre de la columna actual en la iteración del bucle.\n",
        "{data[col].nunique()}: Representa el número de subniveles únicos en la columna actual. data[col] selecciona la columna actual del DataFrame y .nunique() calcula el número de valores únicos en esa columna."
      ],
      "metadata": {
        "id": "_Mp3NA1KiXIX"
      }
    },
    {
      "cell_type": "code",
      "source": [
        "# Conteo de los niveles en las diferentes columnas categóricas\n",
        "cols_cat = ['job', 'marital', 'education', 'default', 'housing',\n",
        "       'loan', 'contact', 'month', 'poutcome', 'y']\n",
        "\n",
        "for col in cols_cat:\n",
        "  print(f'Columna {col}: {df[col].nunique()} subniveles')"
      ],
      "metadata": {
        "id": "TrtH8OzKe8lh"
      },
      "execution_count": null,
      "outputs": []
    },
    {
      "cell_type": "code",
      "source": [
        "#Conteo los valores\n",
        "pd.value_counts(df['job'])"
      ],
      "metadata": {
        "id": "L9NEsBNcs99J"
      },
      "execution_count": null,
      "outputs": []
    },
    {
      "cell_type": "markdown",
      "source": [
        "Todas las columnas categóricas tienen más de 1 subnivel. No eliminaremos ninguna.\n",
        "\n",
        "Verifiquemos lo que ocurre con las columnas numéricas:"
      ],
      "metadata": {
        "id": "O9wOldaamWMZ"
      }
    },
    {
      "cell_type": "markdown",
      "source": [
        "Todas las columnas numéricas tienen desviaciones estándar (\"std\") diferentes de cero, lo que indica que no tienen un único valor.\n",
        "\n",
        "Preservaremos todas las columnas numéricas."
      ],
      "metadata": {
        "id": "Jbqj5dyXmc-i"
      }
    },
    {
      "cell_type": "markdown",
      "source": [
        "La **desviación estándar** es una medida que nos indica qué tan dispersos o alejados están los valores de un conjunto de datos respecto a su media o promedio. En otras palabras, nos ayuda a entender cuánto varían los valores individuales de un conjunto de datos con respecto a su valor promedio.\n",
        "\n",
        "Imagina que tienes un conjunto de datos que representa las alturas de estudiantes en una clase. Si la desviación estándar es baja, significa que la mayoría de los estudiantes tienen alturas muy similares entre sí y cercanas a la altura promedio de la clase. Por otro lado, si la desviación estándar es alta, significa que las alturas de los estudiantes están muy dispersas, algunos son muy altos y otros muy bajos en comparación con la altura promedio.\n",
        "\n",
        "Entonces, la desviación estándar nos da una idea de la dispersión o variabilidad de los datos alrededor de su promedio. Una desviación estándar baja indica que los datos están más agrupados alrededor del promedio, mientras que una desviación estándar alta indica que los datos están más dispersos o separados del promedio."
      ],
      "metadata": {
        "id": "JcvifwPPnHLK"
      }
    },
    {
      "cell_type": "code",
      "source": [
        "# Calcular la desviación estándar para las columnas numéricas\n",
        "desviaciones_estandar = data[['age', 'balance', 'day', 'duration', 'campaign', 'pdays', 'previous']].std()\n",
        "\n",
        "# Imprimir las desviaciones estándar\n",
        "print(desviaciones_estandar)"
      ],
      "metadata": {
        "id": "BKh3RZvRmW7t"
      },
      "execution_count": null,
      "outputs": []
    },
    {
      "cell_type": "code",
      "source": [
        "#desviacion estandar para la variable 'pdays'\n",
        "destd_pdays = data[['pdays']].std()\n",
        "\n",
        "# Imprimir las desviaciones estándar\n",
        "print(destd_pdays)"
      ],
      "metadata": {
        "id": "bXhQbALAs7ZW"
      },
      "execution_count": null,
      "outputs": []
    },
    {
      "cell_type": "code",
      "source": [
        "# Crear una gráfica de barras para representar las desviaciones estándar\n",
        "desviaciones_estandar.plot(kind='bar')\n",
        "plt.title('Desviación Estándar de las Variables Numéricas')\n",
        "plt.xlabel('Variables')\n",
        "plt.ylabel('Desviación Estándar')\n",
        "plt.xticks(rotation=45)\n",
        "plt.show()"
      ],
      "metadata": {
        "id": "zTdEJPRRs-b7"
      },
      "execution_count": null,
      "outputs": []
    },
    {
      "cell_type": "code",
      "source": [
        "# Graficar la desviación estándar de 'pdays'\n",
        "plt.figure(figsize=(4, 2))  # Configura el tamaño de la figura\n",
        "plt.bar('pdays', destd_pdays)  # Crea una barra para la desviación estándar de 'pdays'\n",
        "plt.title('Desviación Estándar de pdays')\n",
        "plt.ylabel('Desviación Estándar')\n",
        "plt.show()"
      ],
      "metadata": {
        "id": "Pk_b91eNtCNO"
      },
      "execution_count": null,
      "outputs": []
    },
    {
      "cell_type": "code",
      "source": [
        "# Calcula la media del atributo \"pdays: dias de contacto al usuario antes de la campaña actual\"\n",
        "media = data['pdays'].mean()\n",
        "\n",
        "print(\"Promedio de dias de contacto:\", media)"
      ],
      "metadata": {
        "id": "OsmS71IOu_1A"
      },
      "execution_count": null,
      "outputs": []
    },
    {
      "cell_type": "code",
      "source": [
        "# Graficar un histograma del atributo \"pdays\"\n",
        "plt.hist(data['pdays'], bins=20, color='skyblue', edgecolor='black')\n",
        "\n",
        "# Agregar una línea vertical para mostrar la media\n",
        "plt.axvline(media, color='red', linestyle='dashed', linewidth=1)\n",
        "\n",
        "# Etiquetas y título\n",
        "plt.xlabel('Valor de la pdays')\n",
        "plt.ylabel('Frecuencia')\n",
        "plt.title('Histograma de la pdays con Media')\n",
        "\n",
        "# Mostrar la gráfica\n",
        "plt.show()"
      ],
      "metadata": {
        "id": "OUMqf0BMvDF3"
      },
      "execution_count": null,
      "outputs": []
    },
    {
      "cell_type": "markdown",
      "source": [
        "##4.3 Filas repetidas"
      ],
      "metadata": {
        "id": "khWhpFOl4utI"
      }
    },
    {
      "cell_type": "code",
      "source": [
        "#Mostramos la cantidad de registros antes de aplicar una transformación, limpieza o filtro\n",
        "print(f'Tamaño del set antes de eliminar las filas repetidas: {data.shape}')\n",
        "data.drop_duplicates(inplace=True)\n",
        "#Mostramos la cantidad de registros después de aplicar una transformación, limpieza o filtro\n",
        "print(f'Tamaño del set después de eliminar las filas repetidas: {data.shape}')"
      ],
      "metadata": {
        "id": "dz4UH4oc4a42"
      },
      "execution_count": null,
      "outputs": []
    },
    {
      "cell_type": "markdown",
      "source": [
        "##4.4 *Outliers* en las variables numéricas\n",
        "\n",
        "No siempre se deben eliminar los *outliers* porque dependiendo de la variable numérica analizada estos pueden contener información importante.\n",
        "\n",
        "Creemos gráficas tipo \"boxplot\" de las columnas numéricas:"
      ],
      "metadata": {
        "id": "pYAKVUmO5em0"
      }
    },
    {
      "cell_type": "code",
      "source": [
        "# Generar gráficas individuales pues las variables numéricas\n",
        "# están en rangos diferentes\n",
        "cols_num = ['age', 'balance', 'day', 'duration', 'campaign',\n",
        "            'pdays', 'previous']\n",
        "\n",
        "fig, ax = plt.subplots(nrows=7, ncols=1, figsize=(8,30))\n",
        "fig.subplots_adjust(hspace=0.5)\n",
        "\n",
        "for i, col in enumerate(cols_num):\n",
        "    sns.boxplot(x=col, data=data, ax=ax[i])\n",
        "    ax[i].set_title(col)"
      ],
      "metadata": {
        "id": "gRU-lFQb40_x"
      },
      "execution_count": null,
      "outputs": []
    },
    {
      "cell_type": "markdown",
      "source": [
        "**Observaciones:**\n",
        "- \"age\": hay sujetos con edades mucho mayores a 100 años\n",
        "- \"duration\": hay valores negativos\n",
        "- \"previous\": hay un valor extremadamente alto (cercano a 300)"
      ],
      "metadata": {
        "id": "pcs4newN7HG4"
      }
    },
    {
      "cell_type": "code",
      "source": [
        "# Eliminar filas con \"age\">100\n",
        "print(f'Tamaño del set antes de eliminar registros de edad: {data.shape}')\n",
        "data = data.drop(data[data['age'] > 100].index)\n",
        "print(f'Tamaño del set después de eliminar registros de edad: {data.shape}')"
      ],
      "metadata": {
        "id": "CobMETXN7HtP"
      },
      "execution_count": null,
      "outputs": []
    },
    {
      "cell_type": "markdown",
      "source": [],
      "metadata": {
        "id": "VnXGJihOv8YN"
      }
    },
    {
      "cell_type": "code",
      "source": [
        "# Eliminar filas con \"duration\"<0\n",
        "print(f'Tamaño del set antes de eliminar registros de duración: {data.shape}')\n",
        "data = data.drop(data[data['duration'] < 0].index)\n",
        "#data = data[data['duration']>0]\n",
        "print(f'Tamaño del set después de eliminar registros de duración: {data.shape}')"
      ],
      "metadata": {
        "id": "C6hjjuLM7NDp"
      },
      "execution_count": null,
      "outputs": []
    },
    {
      "cell_type": "code",
      "source": [
        "# Eliminar filas con \"previous\">100"
      ],
      "metadata": {
        "id": "GrO7AGkZ7Tgf"
      },
      "execution_count": null,
      "outputs": []
    },
    {
      "cell_type": "markdown",
      "source": [
        "##4.5 Errores tipográficos en variables categóricas\n",
        "\n",
        "En una variable categórica pueden aparecer sub-niveles como \"unknown\" y \"UNK\" que para nosotros son equivalentes pero que para nuestro programa parecerían diferentes.\n",
        "\n",
        "Se deben unificar estos sub-niveles"
      ],
      "metadata": {
        "id": "9wp7lbIU7WZD"
      }
    },
    {
      "cell_type": "code",
      "source": [
        "# Graficar los subniveles de cada variable categórica\n",
        "cols_cat = ['job', 'marital', 'education', 'default', 'housing',\n",
        "       'loan', 'contact', 'month', 'poutcome', 'y']\n",
        "\n",
        "fig, ax = plt.subplots(nrows=10, ncols=1, figsize=(10,30))\n",
        "fig.subplots_adjust(hspace=1)\n",
        "\n",
        "for i, col in enumerate(cols_cat):\n",
        "  sns.countplot(x=col, hue=col, data=data, ax=ax[i], palette= 'colorblind', legend=False)\n",
        "  ax[i].set_title(col)\n",
        "  ax[i].tick_params(axis='x', labelrotation=30)"
      ],
      "metadata": {
        "id": "W4oL43kz7W-3"
      },
      "execution_count": null,
      "outputs": []
    },
    {
      "cell_type": "markdown",
      "source": [
        "Inicialmente se observa que hay sub-niveles con el mismo nombre pero escritos en minúscula, en mayúscula o con la primera letra en mayúscula.\n",
        "\n",
        "Unifiquemos estos sub-niveles inicialmente:"
      ],
      "metadata": {
        "id": "q6UWlbjLSzcN"
      }
    },
    {
      "cell_type": "code",
      "source": [
        "for column in data.columns:\n",
        "#Representar en minúsculas sólo si la columna es categórica\n",
        "    if column in cols_cat:\n",
        "        data[column] = data[column].str.lower()\n",
        "\n",
        "#generemos las gráficas nuevamente\n",
        "fig, ax = plt.subplots(nrows=10, ncols=1, figsize=(10,30))\n",
        "fig.subplots_adjust(hspace=1)\n",
        "\n",
        "for i, col in enumerate(cols_cat):\n",
        "  sns.countplot(x=col, hue=col, data=data, ax=ax[i], palette='colorblind', legend=False)\n",
        "  ax[i].set_title(col)\n",
        "  ax[i].tick_params(axis='x', labelrotation=30)"
      ],
      "metadata": {
        "id": "rUNukVlRSGvO"
      },
      "execution_count": null,
      "outputs": []
    },
    {
      "cell_type": "code",
      "source": [
        "# job: unificar admin. y administrative\n",
        "print(data['job'].unique())\n",
        "data['job'] = data['job'].str.replace('admin.','administrative', regex=False)\n",
        "print(data['job'].unique())"
      ],
      "metadata": {
        "id": "zX7O7fmRTOtd"
      },
      "execution_count": null,
      "outputs": []
    },
    {
      "cell_type": "code",
      "source": [
        "# marital: unificar div. y divorced\n",
        "print(data['marital'].unique())\n",
        "data['marital'] = data['marital'].str.replace('div.','divorced', regex=False)\n",
        "print(data['marital'].unique())"
      ],
      "metadata": {
        "id": "9x8dmUMqT30L"
      },
      "execution_count": null,
      "outputs": []
    },
    {
      "cell_type": "code",
      "source": [
        "# education: unificar sec. y secondary, unk y unknown\n",
        "print(data['education'].unique())\n",
        "data['education'] = data['education'].str.replace('sec.','secondary', regex=False)\n",
        "data.loc[data['education']=='unk','education'] = 'unknown'\n",
        "print(data['education'].unique())"
      ],
      "metadata": {
        "id": "CNvidlKXT_M-"
      },
      "execution_count": null,
      "outputs": []
    },
    {
      "cell_type": "code",
      "source": [
        "# contact: unificar telephone y phone\n",
        "print(data['contact'].unique())\n",
        "data.loc[data['contact']=='phone','contact'] = 'telephone'\n",
        "data.loc[data['contact']=='mobile','contact'] = 'cellular'\n",
        "print(data['contact'].unique())"
      ],
      "metadata": {
        "id": "9t9RuGRgULKN"
      },
      "execution_count": null,
      "outputs": []
    },
    {
      "cell_type": "code",
      "source": [
        "# poutcome: unificar unk y unknown\n",
        "print(data['poutcome'].unique())\n",
        "data.loc[data['poutcome']=='unk','poutcome']='unknown'\n",
        "print(data['poutcome'].unique())"
      ],
      "metadata": {
        "id": "qvh6DPoTUO0J"
      },
      "execution_count": null,
      "outputs": []
    },
    {
      "cell_type": "code",
      "source": [
        "#Edad(age) promedio(mean) de los clientes interesados en adquirir un certificado de depósito(y)\n",
        "edad_promedio_interesados = data[data['y'] == 'yes']['age'].mean()\n",
        "print(\"1. Edad promedio de los clientes interesados:\", edad_promedio_interesados)"
      ],
      "metadata": {
        "id": "KYiZwJk8VFp8"
      },
      "execution_count": null,
      "outputs": []
    },
    {
      "cell_type": "code",
      "source": [
        "#Diferencia de ingresos entre clientes interesados y no interesados:\n",
        "sns.boxplot(x='y', y='balance', data=data)\n",
        "plt.title('Diferencia de saldo promedio anual entre clientes interesados y no interesados')\n",
        "plt.show()"
      ],
      "metadata": {
        "id": "v8oi23kWVFig"
      },
      "execution_count": null,
      "outputs": []
    },
    {
      "cell_type": "code",
      "source": [
        "#Distribución de estado civil entre clientes interesados:\n",
        "sns.countplot(x='y', hue='marital', data=data)\n",
        "plt.title('Distribución de estado civil entre clientes interesados y no interesados')\n",
        "plt.show()"
      ],
      "metadata": {
        "id": "8iyyuFOUVLWo"
      },
      "execution_count": null,
      "outputs": []
    },
    {
      "cell_type": "code",
      "source": [
        "#Distribución medio de contacto de los clientes interesados:\n",
        "plt.figure(figsize=(10, 6))\n",
        "sns.countplot(x='contact', hue='y', data=data)\n",
        "plt.title('Distribución de medio de contacto entre clientes interesados')\n",
        "plt.show()"
      ],
      "metadata": {
        "id": "xr1AenUoVFXI"
      },
      "execution_count": null,
      "outputs": []
    },
    {
      "cell_type": "code",
      "source": [
        "#Tipo de ocupación de los clientes interesados:\n",
        "sns.countplot(y='job', hue='y', data=data)\n",
        "plt.title('Tipo de ocupación de los clientes interesados')\n",
        "plt.show()"
      ],
      "metadata": {
        "id": "ST4YLAVdWjAt"
      },
      "execution_count": null,
      "outputs": []
    },
    {
      "cell_type": "code",
      "source": [
        "#Patrón temporal en los contactos que conducen a una mayor conversión de clientes:\n",
        "sns.countplot(x='month', hue='y', data=data)\n",
        "plt.title('Patrón temporal en los contactos que conducen a una mayor conversión')\n",
        "plt.show()"
      ],
      "metadata": {
        "id": "Ic7-JQ7OWplk"
      },
      "execution_count": null,
      "outputs": []
    },
    {
      "cell_type": "markdown",
      "source": [
        "\n",
        "## Uso de libreria pygwalker\n",
        "\n",
        "https://docs.kanaries.net/es/pygwalker\n",
        "\n",
        "https://nicolasurrego.medium.com/visualizaci%C3%B3n-avanzada-de-datos-descubre-el-poder-de-pygwalker-en-python-9d708724ddfb\n",
        "\n"
      ],
      "metadata": {
        "id": "FiLoIqikUa0V"
      }
    },
    {
      "cell_type": "code",
      "source": [
        "#Instalación de librería\n",
        "!pip install pygwalker"
      ],
      "metadata": {
        "id": "WcuhL7ORUbic"
      },
      "execution_count": null,
      "outputs": []
    },
    {
      "cell_type": "code",
      "source": [
        "#Importo la librería con el alias\n",
        "import pygwalker as pyg"
      ],
      "metadata": {
        "id": "zYmOY3F8UdCd"
      },
      "execution_count": null,
      "outputs": []
    },
    {
      "cell_type": "code",
      "source": [
        "#Lectura de dataset con librería\n",
        "pyg.walk(data)"
      ],
      "metadata": {
        "id": "FIFGL7ToUb3I"
      },
      "execution_count": null,
      "outputs": []
    }
  ]
}