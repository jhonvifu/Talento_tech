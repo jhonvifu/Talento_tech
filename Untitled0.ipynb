{
  "nbformat": 4,
  "nbformat_minor": 0,
  "metadata": {
    "colab": {
      "private_outputs": true,
      "provenance": [],
      "mount_file_id": "1dtPuQfUfx1eiJJU06oEdaxpHs6n3BC-l",
      "authorship_tag": "ABX9TyP5lFnfnm56NYB2w/ON+TH0",
      "include_colab_link": true
    },
    "kernelspec": {
      "name": "python3",
      "display_name": "Python 3"
    },
    "language_info": {
      "name": "python"
    }
  },
  "cells": [
    {
      "cell_type": "markdown",
      "metadata": {
        "id": "view-in-github",
        "colab_type": "text"
      },
      "source": [
        "<a href=\"https://colab.research.google.com/github/jhonvifu/Talento_tech/blob/main/Untitled0.ipynb\" target=\"_parent\"><img src=\"https://colab.research.google.com/assets/colab-badge.svg\" alt=\"Open In Colab\"/></a>"
      ]
    },
    {
      "cell_type": "code",
      "execution_count": null,
      "metadata": {
        "collapsed": true,
        "id": "H8hOSslM3e9o"
      },
      "outputs": [],
      "source": [
        "!pip install googletrans==3.1.0a0"
      ]
    },
    {
      "cell_type": "code",
      "source": [
        "import pandas as pd\n",
        "from textblob import TextBlob\n",
        "from googletrans import Translator"
      ],
      "metadata": {
        "id": "VYmQ-bSe5OF3"
      },
      "execution_count": null,
      "outputs": []
    },
    {
      "cell_type": "code",
      "source": [
        "def traslateComent(strComent:str):\n",
        "  traslator = Translator()\n",
        "  strEngComent = traslator.traslator(strComent, src=\"es\", dest='en')\n",
        "  return strEngComent.text\n",
        "\n",
        "def getpolarity(strComent:str):\n",
        "  strComent = traslateComent(strComent)\n",
        "  analysis = TextBlob(strComent)\n",
        "  return analysis.sentiment.polarity\n",
        "\n",
        "  #Cargamos el dataset\n",
        "  df = pd.read_csv('/content/Comentarios.csv')\n",
        "  df['polaridad'] = df['comentario'].apply(getpolarity)\n",
        "\n",
        "\n",
        "  df.to_csv('resultados.csv', index=False)"
      ],
      "metadata": {
        "id": "0iFE0QEY35r_"
      },
      "execution_count": null,
      "outputs": []
    },
    {
      "cell_type": "code",
      "source": [
        "df = pd.read_csv('/content/Comentarios.csv')\n",
        "display(df)"
      ],
      "metadata": {
        "id": "tr_rCHpg8UJJ"
      },
      "execution_count": null,
      "outputs": []
    }
  ]
}