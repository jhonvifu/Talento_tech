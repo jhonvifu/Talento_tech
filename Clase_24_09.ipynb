{
  "nbformat": 4,
  "nbformat_minor": 0,
  "metadata": {
    "colab": {
      "provenance": [],
      "mount_file_id": "1HmFoGroklBIFk5eVnXWoVIYFDCn3qTy1",
      "authorship_tag": "ABX9TyPpIR6x682dmspRRLOZgQb0",
      "include_colab_link": true
    },
    "kernelspec": {
      "name": "python3",
      "display_name": "Python 3"
    },
    "language_info": {
      "name": "python"
    }
  },
  "cells": [
    {
      "cell_type": "markdown",
      "metadata": {
        "id": "view-in-github",
        "colab_type": "text"
      },
      "source": [
        "<a href=\"https://colab.research.google.com/github/jhonvifu/Talento_tech/blob/main/Clase_24_09.ipynb\" target=\"_parent\"><img src=\"https://colab.research.google.com/assets/colab-badge.svg\" alt=\"Open In Colab\"/></a>"
      ]
    },
    {
      "cell_type": "code",
      "source": [
        "import pandas as pd\n",
        "import numpy as np\n",
        "\n",
        "df_1=pd.read_csv('/content/Base 24.09.csv')\n",
        "\n",
        "print(df_1)"
      ],
      "metadata": {
        "id": "5K3E0HDbZczq",
        "colab": {
          "base_uri": "https://localhost:8080/"
        },
        "outputId": "9a33fa09-e9dd-4e72-81c2-f992e69ba410"
      },
      "execution_count": 16,
      "outputs": [
        {
          "output_type": "stream",
          "name": "stdout",
          "text": [
            "         Fecha   Region      Producto Vendedor  Ventas\n",
            "0   31/01/2024  Central    Accesorios    David   8.287\n",
            "1   01/02/2024  Central    Accesorios    Karen   6.909\n",
            "2   02/02/2024  Central  Dispositivos    David  11.420\n",
            "3   03/02/2024  Central  Dispositivos    Karen  12.948\n",
            "4   04/02/2024  Central      Sistemas    David  20.098\n",
            "5   05/02/2024  Central      Sistemas    Karen  30.633\n",
            "6   06/02/2024     Este    Accesorios      Ana   9.323\n",
            "7   07/02/2024     Este    Accesorios    Lucas   7.667\n",
            "8   08/02/2024     Este  Dispositivos      Ana  10.348\n",
            "9   09/02/2024     Este  Dispositivos    Lucas   9.312\n",
            "10  10/02/2024     Este      Sistemas      Ana  13.531\n",
            "11  11/02/2024     Este      Sistemas    Lucas  13.374\n",
            "12  12/02/2024    Oeste    Accesorios    Kevin   4.744\n",
            "13  13/02/2024    Oeste    Accesorios     Sara   5.442\n",
            "14  14/02/2024    Oeste  Dispositivos    Kevin  10.711\n",
            "15  15/02/2024    Oeste  Dispositivos     Sara   8.780\n",
            "16  16/02/2024    Oeste      Sistemas    Kevin  32.855\n",
            "17  17/02/2024    Oeste      Sistemas     Sara  23.151\n"
          ]
        }
      ]
    }
  ]
}