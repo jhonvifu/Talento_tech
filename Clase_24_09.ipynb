{
  "nbformat": 4,
  "nbformat_minor": 0,
  "metadata": {
    "colab": {
      "provenance": [],
      "mount_file_id": "1HmFoGroklBIFk5eVnXWoVIYFDCn3qTy1",
      "authorship_tag": "ABX9TyMLA2qdTpLRIjGCyDoA2+M3",
      "include_colab_link": true
    },
    "kernelspec": {
      "name": "python3",
      "display_name": "Python 3"
    },
    "language_info": {
      "name": "python"
    }
  },
  "cells": [
    {
      "cell_type": "markdown",
      "metadata": {
        "id": "view-in-github",
        "colab_type": "text"
      },
      "source": [
        "<a href=\"https://colab.research.google.com/github/jhonvifu/Talento_tech/blob/main/Clase_24_09.ipynb\" target=\"_parent\"><img src=\"https://colab.research.google.com/assets/colab-badge.svg\" alt=\"Open In Colab\"/></a>"
      ]
    },
    {
      "cell_type": "code",
      "source": [
        "import pandas as pd"
      ],
      "metadata": {
        "id": "5K3E0HDbZczq"
      },
      "execution_count": null,
      "outputs": []
    },
    {
      "cell_type": "code",
      "source": [
        "df_1=pd.read_csv('/content/Base 24.09.csv')"
      ],
      "metadata": {
        "id": "SaEMBsddcfpq"
      },
      "execution_count": null,
      "outputs": []
    }
  ]
}